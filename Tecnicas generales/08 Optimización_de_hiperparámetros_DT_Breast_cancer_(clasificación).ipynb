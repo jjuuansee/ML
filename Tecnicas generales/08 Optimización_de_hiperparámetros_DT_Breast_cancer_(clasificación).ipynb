{
  "cells": [
    {
      "cell_type": "markdown",
      "id": "27cb2a35",
      "metadata": {
        "id": "27cb2a35"
      },
      "source": [
        "\n",
        "# Sobreajuste sin tuning de hiperparámetros - Efecto y solución\n",
        "\n",
        "Este cuaderno busca ilustrar un fenómeno clásico en Machine Learning: el **sobreajuste** de modelos muy flexibles\n",
        "cuando no se controlan sus hiperparámetros, y cómo técnicas como la **validación cruzada** y el ajuste de hiperparámetros\n",
        "permiten mejorar la capacidad de generalización.\n",
        "\n",
        "El ejemplo se basa en el dataset **Breast Cancer Wisconsin (Diagnostic)** incluido en scikit-learn.\n",
        "Es un dataset de clasificación binaria con 30 características numéricas que describen medidas obtenidas de imágenes de tumores de mama.\n"
      ]
    },
    {
      "cell_type": "markdown",
      "id": "7dd3bd99",
      "metadata": {
        "id": "7dd3bd99"
      },
      "source": [
        "\n",
        "## Importación de librerías\n",
        "\n",
        "Comenzamos importando las librerías necesarias para el análisis:\n",
        "- `numpy` y `pandas` para manejo de datos.\n",
        "- `matplotlib` para visualización.\n",
        "- `sklearn.datasets` para cargar el dataset.\n",
        "- `sklearn.tree` para entrenar árboles de decisión.\n",
        "- `sklearn.model_selection` para dividir datos, validación cruzada y búsqueda de hiperparámetros.\n",
        "- `sklearn.metrics` para medir desempeño del modelo.\n"
      ]
    },
    {
      "cell_type": "code",
      "execution_count": null,
      "id": "73a9ed2d",
      "metadata": {
        "id": "73a9ed2d"
      },
      "outputs": [],
      "source": [
        "\n",
        "import numpy as np\n",
        "import pandas as pd\n",
        "import matplotlib.pyplot as plt\n",
        "\n",
        "from sklearn.datasets import load_breast_cancer\n",
        "from sklearn.model_selection import train_test_split, ShuffleSplit, GridSearchCV, validation_curve\n",
        "from sklearn.tree import DecisionTreeClassifier, export_text\n",
        "from sklearn.metrics import accuracy_score, classification_report, confusion_matrix\n",
        "\n"
      ]
    },
    {
      "cell_type": "markdown",
      "id": "148af86b",
      "metadata": {
        "id": "148af86b"
      },
      "source": [
        "\n",
        "## Configuración del entorno\n",
        "\n",
        "Definimos una semilla aleatoria para garantizar reproducibilidad de los resultados y\n",
        "ajustamos parámetros básicos de visualización para los gráficos.\n"
      ]
    },
    {
      "cell_type": "code",
      "execution_count": null,
      "id": "6fdf9974",
      "metadata": {
        "id": "6fdf9974"
      },
      "outputs": [],
      "source": [
        "\n",
        "RANDOM_STATE = 42\n",
        "np.random.seed(RANDOM_STATE)\n",
        "\n",
        "plt.rcParams.update({\n",
        "    \"figure.figsize\": (7, 4),\n",
        "    \"axes.grid\": True\n",
        "})\n"
      ]
    },
    {
      "cell_type": "markdown",
      "id": "35ebbc4c",
      "metadata": {
        "id": "35ebbc4c"
      },
      "source": [
        "\n",
        "## Carga y descripción de los datos\n",
        "\n",
        "El dataset **Breast Cancer Wisconsin** contiene 569 observaciones y 30 características numéricas.\n",
        "La variable objetivo indica si un tumor es **maligno** (0) o **benigno** (1).  \n",
        "Es un conjunto de datos clásico para probar algoritmos de clasificación binaria.\n",
        "\n",
        "Dividiremos el dataset en un conjunto de entrenamiento (80%) y un conjunto de prueba (20%).\n",
        "El conjunto de entrenamiento se utilizará para ajustar y validar el modelo,\n",
        "mientras que el conjunto de prueba permitirá evaluar su capacidad de generalización.\n"
      ]
    },
    {
      "cell_type": "code",
      "execution_count": null,
      "id": "38e64d5c",
      "metadata": {
        "colab": {
          "base_uri": "https://localhost:8080/"
        },
        "id": "38e64d5c",
        "outputId": "88b97aa1-d3db-41b3-f208-0d935bd89fd5"
      },
      "outputs": [
        {
          "output_type": "execute_result",
          "data": {
            "text/plain": [
              "((569, 30), (455, 30), (114, 30))"
            ]
          },
          "metadata": {},
          "execution_count": 99
        }
      ],
      "source": [
        "\n",
        "cancer = load_breast_cancer()\n",
        "X = pd.DataFrame(cancer.data, columns=cancer.feature_names)\n",
        "y = pd.Series(cancer.target, name=\"target\")\n",
        "\n",
        "X_train, X_test, y_train, y_test = train_test_split(\n",
        "    X, y, test_size=0.2, random_state=RANDOM_STATE, stratify=y\n",
        ")\n",
        "X.shape, X_train.shape, X_test.shape\n"
      ]
    },
    {
      "cell_type": "markdown",
      "id": "60c84b96",
      "metadata": {
        "id": "60c84b96"
      },
      "source": [
        "\n",
        "## Árbol sin tuning de hiperparámetros\n",
        "\n",
        "Cuando entrenamos un **árbol de decisión sin restricciones** (dejando que crezca libremente),\n",
        "el modelo tiende a memorizar el conjunto de entrenamiento. Esto se traduce en una exactitud\n",
        "casi perfecta sobre los datos de entrenamiento, ya que el árbol crea reglas muy específicas\n",
        "que clasifican correctamente cada observación.\n",
        "\n",
        "**OBS: Por defecto scikitlearn construye el árbol de decisión sin restricciones!**\n",
        "\n",
        "El problema es que este mismo nivel de detalle hace que el modelo **pierda capacidad de generalizar**\n",
        "a datos nuevos. En el conjunto de prueba, donde aparecen observaciones no vistas,\n",
        "la exactitud suele ser menor. Este fenómeno se conoce como **sobreajuste (overfitting)**:\n",
        "el modelo se adapta tanto al entrenamiento que no logra generalizar bien en datos no vistos.\n",
        "\n",
        "En esta sección entrenaremos un árbol por defecto y veremos cómo se comporta en *train* y *test*,\n",
        "además de inspeccionar su profundidad y número de hojas (como indicador de complejidad).\n"
      ]
    },
    {
      "cell_type": "code",
      "execution_count": null,
      "id": "bd0e0538",
      "metadata": {
        "colab": {
          "base_uri": "https://localhost:8080/"
        },
        "id": "bd0e0538",
        "outputId": "aedac80f-2008-47f3-d834-cc0da5746901"
      },
      "outputs": [
        {
          "output_type": "stream",
          "name": "stdout",
          "text": [
            "Exactitud (train): 1.000\n",
            "Exactitud (test) : 0.912\n",
            "Profundidad: 7 | Hojas: 19\n"
          ]
        }
      ],
      "source": [
        "\n",
        "tree_default = DecisionTreeClassifier(random_state=RANDOM_STATE)\n",
        "tree_default.fit(X_train, y_train)\n",
        "\n",
        "y_pred_train = tree_default.predict(X_train)\n",
        "y_pred_test = tree_default.predict(X_test)\n",
        "\n",
        "acc_train = accuracy_score(y_train, y_pred_train)\n",
        "acc_test  = accuracy_score(y_test,  y_pred_test)\n",
        "\n",
        "print(f\"Exactitud (train): {acc_train:.3f}\")\n",
        "print(f\"Exactitud (test) : {acc_test:.3f}\")\n",
        "print(f\"Profundidad: {tree_default.get_depth()} | Hojas: {tree_default.get_n_leaves()}\")\n"
      ]
    },
    {
      "cell_type": "markdown",
      "id": "1d48a196",
      "metadata": {
        "id": "1d48a196"
      },
      "source": [
        "\n",
        "### Variabilidad con múltiples particiones\n",
        "\n",
        "Para asegurarnos de que el comportamiento observado no es producto de una única división *train/test*,\n",
        "repetimos el entrenamiento con **30 particiones diferentes** utilizando `ShuffleSplit`.\n",
        "Esto nos permitirá calcular la exactitud media y su desviación estándar tanto en entrenamiento como en prueba.\n",
        "\n",
        "De este modo, podemos visualizar con mayor claridad la diferencia entre el rendimiento del árbol en los datos que ya conoce\n",
        "y en datos completamente nuevos.\n"
      ]
    },
    {
      "cell_type": "code",
      "execution_count": null,
      "id": "b5e36739",
      "metadata": {
        "colab": {
          "base_uri": "https://localhost:8080/"
        },
        "id": "b5e36739",
        "outputId": "c4798c9d-8403-4b8a-bed9-7d4c32efce81"
      },
      "outputs": [
        {
          "output_type": "execute_result",
          "data": {
            "text/plain": [
              "(np.float64(1.0), np.float64(0.9283625730994152))"
            ]
          },
          "metadata": {},
          "execution_count": 101
        }
      ],
      "source": [
        "\n",
        "cv = ShuffleSplit(n_splits=30, test_size=0.2, random_state=RANDOM_STATE)\n",
        "accs_train, accs_test = [], []\n",
        "\n",
        "for tr_idx, te_idx in cv.split(X, y):\n",
        "    X_tr, X_te = X.iloc[tr_idx], X.iloc[te_idx]\n",
        "    y_tr, y_te = y.iloc[tr_idx],  y.iloc[te_idx]\n",
        "\n",
        "    clf = DecisionTreeClassifier(random_state=RANDOM_STATE)\n",
        "    clf.fit(X_tr, y_tr)\n",
        "    accs_train.append(accuracy_score(y_tr, clf.predict(X_tr)))\n",
        "    accs_test.append(accuracy_score(y_te, clf.predict(X_te)))\n",
        "\n",
        "mean_train, std_train = np.mean(accs_train), np.std(accs_train)\n",
        "mean_test, std_test = np.mean(accs_test), np.std(accs_test)\n",
        "mean_train, mean_test\n"
      ]
    },
    {
      "cell_type": "code",
      "execution_count": null,
      "id": "40ef3bd6",
      "metadata": {
        "colab": {
          "base_uri": "https://localhost:8080/",
          "height": 391
        },
        "id": "40ef3bd6",
        "outputId": "9dc2d7ed-6acf-497f-e91b-6eea59659634"
      },
      "outputs": [
        {
          "output_type": "display_data",
          "data": {
            "text/plain": [
              "<Figure size 700x400 with 1 Axes>"
            ],
            "image/png": "[encoded data removed]"
          },
          "metadata": {}
        }
      ],
      "source": [
        "\n",
        "plt.bar([\"Train\", \"Test\"], [mean_train, mean_test], yerr=[std_train, std_test], capsize=5)\n",
        "plt.ylim(0.8, 1.05)\n",
        "plt.title(\"Rendimiento promedio sin ajuste de hiperparámetros (30 particiones)\")\n",
        "plt.show()\n"
      ]
    },
    {
      "cell_type": "markdown",
      "id": "530e25d4",
      "metadata": {
        "id": "530e25d4"
      },
      "source": [
        "\n",
        "## Curva de validación para `max_depth`\n",
        "\n",
        "Una forma de entender el sobreajuste es limitar manualmente la **profundidad máxima del árbol** (`max_depth`).\n",
        "Si el árbol es muy profundo, memoriza el entrenamiento y generaliza peor.\n",
        "Si es muy poco profundo, puede quedarse corto para capturar patrones importantes (**subajuste/underfitting**).\n",
        "\n",
        "La **curva de validación** permite observar cómo cambian las métricas de entrenamiento y validación\n",
        "al variar `max_depth`. En términos prácticos, si solo optimizáramos `max_depth` el punto óptimo sería tener un árbol con la profundidad correspondiente al máximo valor de la métrica usada (ese punto indica el mejor equilibrio entre complejidad y capacidad de generalización).\n"
      ]
    },
    {
      "cell_type": "code",
      "execution_count": null,
      "id": "11b95098",
      "metadata": {
        "colab": {
          "base_uri": "https://localhost:8080/",
          "height": 410
        },
        "id": "11b95098",
        "outputId": "a250d8bd-9001-4400-ac16-d004170a518e"
      },
      "outputs": [
        {
          "output_type": "display_data",
          "data": {
            "text/plain": [
              "<Figure size 700x400 with 1 Axes>"
            ],
            "image/png": "[encoded data removed]"
          },
          "metadata": {}
        }
      ],
      "source": [
        "\n",
        "depth_values = [2, 3, 4, 5, 6, 8, 10, 15]\n",
        "train_scores, valid_scores = validation_curve(\n",
        "    DecisionTreeClassifier(random_state=RANDOM_STATE),\n",
        "    X_train, y_train,\n",
        "    param_name=\"max_depth\",\n",
        "    param_range=depth_values,\n",
        "    cv=5,\n",
        "    scoring=\"accuracy\"\n",
        ")\n",
        "plt.plot(depth_values, train_scores.mean(axis=1), marker=\"o\", label=\"Train\")\n",
        "plt.plot(depth_values, valid_scores.mean(axis=1), marker=\"o\", label=\"Validación (CV)\")\n",
        "plt.xlabel(\"max_depth\")\n",
        "plt.ylabel(\"Exactitud\")\n",
        "plt.title(\"Curva de validación\")\n",
        "plt.legend()\n",
        "plt.show()\n"
      ]
    },
    {
      "cell_type": "markdown",
      "id": "4437a7c8",
      "metadata": {
        "id": "4437a7c8"
      },
      "source": [
        "\n",
        "## Ajuste de hiperparámetros con GridSearchCV\n",
        "\n",
        "En lugar de elegir manualmente los hiperparámetros, utilizamos **GridSearchCV**,\n",
        "que prueba combinaciones de valores y selecciona la que maximiza la exactitud promedio en validación cruzada.\n",
        "\n",
        "Los hiperparámetros que ajustaremos son:\n",
        "\n",
        "- `max_depth`: profundidad máxima del árbol.\n",
        "- `min_samples_leaf`: número mínimo de muestras por hoja.\n",
        "- `min_samples_split`: número mínimo de muestras para dividir un nodo.\n",
        "- `ccp_alpha`: parámetro de complejidad utilizado en pruning.\n",
        "\n"
      ]
    },
    {
      "cell_type": "code",
      "execution_count": null,
      "id": "95a1dae2",
      "metadata": {
        "colab": {
          "base_uri": "https://localhost:8080/"
        },
        "id": "95a1dae2",
        "outputId": "0601f4e4-e0c5-49f9-e12b-92e2f01a3a7f"
      },
      "outputs": [
        {
          "output_type": "execute_result",
          "data": {
            "text/plain": [
              "({'max_depth': 4, 'min_samples_leaf': 1}, np.float64(0.9384615384615385))"
            ]
          },
          "metadata": {},
          "execution_count": 104
        }
      ],
      "source": [
        "\n",
        "param_grid = {\n",
        "    \"max_depth\": [None, 3, 4, 5, 6, 8, 10],\n",
        "    \"min_samples_leaf\": [1, 2, 3, 4],\n",
        "#    \"min_samples_split\": [2, 3, 4],\n",
        "#    \"ccp_alpha\": [0.0, 1e-4, 1e-3]\n",
        "}\n",
        "\n",
        "grid = GridSearchCV(\n",
        "    DecisionTreeClassifier(random_state=RANDOM_STATE),\n",
        "    param_grid=param_grid, cv=5, scoring=\"accuracy\"\n",
        ")\n",
        "grid.fit(X_train, y_train)\n",
        "grid.best_params_, grid.best_score_\n"
      ]
    },
    {
      "cell_type": "code",
      "source": [
        "# genera codigo para mostrar una grilla con las diferentes combinaciones de hiperparametros y su rendimiento. ordena por rendimiento\n",
        "results = pd.DataFrame(grid.cv_results_)\n",
        "results = results.sort_values(by='mean_test_score', ascending=False)\n",
        "display(results[[\n",
        "    \"param_max_depth\",\n",
        "    \"param_min_samples_leaf\",\n",
        "#    \"param_min_samples_split\",\n",
        "#    \"param_ccp_alpha\",\n",
        "    \"mean_test_score\",\n",
        "    \"std_test_score\",\n",
        "]].head(10))\n"
      ],
      "metadata": {
        "colab": {
          "base_uri": "https://localhost:8080/",
          "height": 363
        },
        "id": "WvvEv8JwWJFj",
        "outputId": "a237850e-f487-4f05-aa35-0e1659c2ed1f"
      },
      "id": "WvvEv8JwWJFj",
      "execution_count": null,
      "outputs": [
        {
          "output_type": "display_data",
          "data": {
            "text/plain": [
              "   param_max_depth  param_min_samples_leaf  mean_test_score  std_test_score\n",
              "8                4                       1         0.938462        0.017855\n",
              "2             None                       3         0.936264        0.012815\n",
              "18               6                       3         0.936264        0.012815\n",
              "14               5                       3         0.936264        0.012815\n",
              "22               8                       3         0.936264        0.012815\n",
              "26              10                       3         0.936264        0.012815\n",
              "27              10                       4         0.934066        0.012038\n",
              "23               8                       4         0.934066        0.012038\n",
              "15               5                       4         0.934066        0.012038\n",
              "19               6                       4         0.934066        0.012038"
            ],
            "text/html": [
              "\n",
              "  <div id=\"df-2f8c55a3-d6f8-415a-9ff2-4e52514b8f9c\" class=\"colab-df-container\">\n",
              "    <div>\n",
              "<style scoped>\n",
              "    .dataframe tbody tr th:only-of-type {\n",
              "        vertical-align: middle;\n",
              "    }\n",
              "\n",
              "    .dataframe tbody tr th {\n",
              "        vertical-align: top;\n",
              "    }\n",
              "\n",
              "    .dataframe thead th {\n",
              "        text-align: right;\n",
              "    }\n",
              "</style>\n",
              "<table border=\"1\" class=\"dataframe\">\n",
              "  <thead>\n",
              "    <tr style=\"text-align: right;\">\n",
              "      <th></th>\n",
              "      <th>param_max_depth</th>\n",
              "      <th>param_min_samples_leaf</th>\n",
              "      <th>mean_test_score</th>\n",
              "      <th>std_test_score</th>\n",
              "    </tr>\n",
              "  </thead>\n",
              "  <tbody>\n",
              "    <tr>\n",
              "      <th>8</th>\n",
              "      <td>4</td>\n",
              "      <td>1</td>\n",
              "      <td>0.938462</td>\n",
              "      <td>0.017855</td>\n",
              "    </tr>\n",
              "    <tr>\n",
              "      <th>2</th>\n",
              "      <td>None</td>\n",
              "      <td>3</td>\n",
              "      <td>0.936264</td>\n",
              "      <td>0.012815</td>\n",
              "    </tr>\n",
              "    <tr>\n",
              "      <th>18</th>\n",
              "      <td>6</td>\n",
              "      <td>3</td>\n",
              "      <td>0.936264</td>\n",
              "      <td>0.012815</td>\n",
              "    </tr>\n",
              "    <tr>\n",
              "      <th>14</th>\n",
              "      <td>5</td>\n",
              "      <td>3</td>\n",
              "      <td>0.936264</td>\n",
              "      <td>0.012815</td>\n",
              "    </tr>\n",
              "    <tr>\n",
              "      <th>22</th>\n",
              "      <td>8</td>\n",
              "      <td>3</td>\n",
              "      <td>0.936264</td>\n",
              "      <td>0.012815</td>\n",
              "    </tr>\n",
              "    <tr>\n",
              "      <th>26</th>\n",
              "      <td>10</td>\n",
              "      <td>3</td>\n",
              "      <td>0.936264</td>\n",
              "      <td>0.012815</td>\n",
              "    </tr>\n",
              "    <tr>\n",
              "      <th>27</th>\n",
              "      <td>10</td>\n",
              "      <td>4</td>\n",
              "      <td>0.934066</td>\n",
              "      <td>0.012038</td>\n",
              "    </tr>\n",
              "    <tr>\n",
              "      <th>23</th>\n",
              "      <td>8</td>\n",
              "      <td>4</td>\n",
              "      <td>0.934066</td>\n",
              "      <td>0.012038</td>\n",
              "    </tr>\n",
              "    <tr>\n",
              "      <th>15</th>\n",
              "      <td>5</td>\n",
              "      <td>4</td>\n",
              "      <td>0.934066</td>\n",
              "      <td>0.012038</td>\n",
              "    </tr>\n",
              "    <tr>\n",
              "      <th>19</th>\n",
              "      <td>6</td>\n",
              "      <td>4</td>\n",
              "      <td>0.934066</td>\n",
              "      <td>0.012038</td>\n",
              "    </tr>\n",
              "  </tbody>\n",
              "</table>\n",
              "</div>\n",
              "    <div class=\"colab-df-buttons\">\n",
              "\n",
              "  <div class=\"colab-df-container\">\n",
              "    <button class=\"colab-df-convert\" onclick=\"convertToInteractive('df-2f8c55a3-d6f8-415a-9ff2-4e52514b8f9c')\"\n",
              "            title=\"Convert this dataframe to an interactive table.\"\n",
              "            style=\"display:none;\">\n",
              "\n",
              "  <svg xmlns=\"http://www.w3.org/2000/svg\" height=\"24px\" viewBox=\"0 -960 960 960\">\n",
              "    <path d=\"M120-120v-720h720v720H120Zm60-500h600v-160H180v160Zm220 220h160v-160H400v160Zm0 220h160v-160H400v160ZM180-400h160v-160H180v160Zm440 0h160v-160H620v160ZM180-180h160v-160H180v160Zm440 0h160v-160H620v160Z\"/>\n",
              "  </svg>\n",
              "    </button>\n",
              "\n",
              "  <style>\n",
              "    .colab-df-container {\n",
              "      display:flex;\n",
              "      gap: 12px;\n",
              "    }\n",
              "\n",
              "    .colab-df-convert {\n",
              "      background-color: #E8F0FE;\n",
              "      border: none;\n",
              "      border-radius: 50%;\n",
              "      cursor: pointer;\n",
              "      display: none;\n",
              "      fill: #1967D2;\n",
              "      height: 32px;\n",
              "      padding: 0 0 0 0;\n",
              "      width: 32px;\n",
              "    }\n",
              "\n",
              "    .colab-df-convert:hover {\n",
              "      background-color: #E2EBFA;\n",
              "      box-shadow: 0px 1px 2px rgba(60, 64, 67, 0.3), 0px 1px 3px 1px rgba(60, 64, 67, 0.15);\n",
              "      fill: #174EA6;\n",
              "    }\n",
              "\n",
              "    .colab-df-buttons div {\n",
              "      margin-bottom: 4px;\n",
              "    }\n",
              "\n",
              "    [theme=dark] .colab-df-convert {\n",
              "      background-color: #3B4455;\n",
              "      fill: #D2E3FC;\n",
              "    }\n",
              "\n",
              "    [theme=dark] .colab-df-convert:hover {\n",
              "      background-color: #434B5C;\n",
              "      box-shadow: 0px 1px 3px 1px rgba(0, 0, 0, 0.15);\n",
              "      filter: drop-shadow(0px 1px 2px rgba(0, 0, 0, 0.3));\n",
              "      fill: #FFFFFF;\n",
              "    }\n",
              "  </style>\n",
              "\n",
              "    <script>\n",
              "      const buttonEl =\n",
              "        document.querySelector('#df-2f8c55a3-d6f8-415a-9ff2-4e52514b8f9c button.colab-df-convert');\n",
              "      buttonEl.style.display =\n",
              "        google.colab.kernel.accessAllowed ? 'block' : 'none';\n",
              "\n",
              "      async function convertToInteractive(key) {\n",
              "        const element = document.querySelector('#df-2f8c55a3-d6f8-415a-9ff2-4e52514b8f9c');\n",
              "        const dataTable =\n",
              "          await google.colab.kernel.invokeFunction('convertToInteractive',\n",
              "                                                    [key], {});\n",
              "        if (!dataTable) return;\n",
              "\n",
              "        const docLinkHtml = 'Like what you see? Visit the ' +\n",
              "          '<a target=\"_blank\" href=https://colab.research.google.com/notebooks/data_table.ipynb>data table notebook</a>'\n",
              "          + ' to learn more about interactive tables.';\n",
              "        element.innerHTML = '';\n",
              "        dataTable['output_type'] = 'display_data';\n",
              "        await google.colab.output.renderOutput(dataTable, element);\n",
              "        const docLink = document.createElement('div');\n",
              "        docLink.innerHTML = docLinkHtml;\n",
              "        element.appendChild(docLink);\n",
              "      }\n",
              "    </script>\n",
              "  </div>\n",
              "\n",
              "\n",
              "    <div id=\"df-60bbd9db-f359-4d5a-a7a4-5a34782a8c1d\">\n",
              "      <button class=\"colab-df-quickchart\" onclick=\"quickchart('df-60bbd9db-f359-4d5a-a7a4-5a34782a8c1d')\"\n",
              "                title=\"Suggest charts\"\n",
              "                style=\"display:none;\">\n",
              "\n",
              "<svg xmlns=\"http://www.w3.org/2000/svg\" height=\"24px\"viewBox=\"0 0 24 24\"\n",
              "     width=\"24px\">\n",
              "    <g>\n",
              "        <path d=\"M19 3H5c-1.1 0-2 .9-2 2v14c0 1.1.9 2 2 2h14c1.1 0 2-.9 2-2V5c0-1.1-.9-2-2-2zM9 17H7v-7h2v7zm4 0h-2V7h2v10zm4 0h-2v-4h2v4z\"/>\n",
              "    </g>\n",
              "</svg>\n",
              "      </button>\n",
              "\n",
              "<style>\n",
              "  .colab-df-quickchart {\n",
              "      --bg-color: #E8F0FE;\n",
              "      --fill-color: #1967D2;\n",
              "      --hover-bg-color: #E2EBFA;\n",
              "      --hover-fill-color: #174EA6;\n",
              "      --disabled-fill-color: #AAA;\n",
              "      --disabled-bg-color: #DDD;\n",
              "  }\n",
              "\n",
              "  [theme=dark] .colab-df-quickchart {\n",
              "      --bg-color: #3B4455;\n",
              "      --fill-color: #D2E3FC;\n",
              "      --hover-bg-color: #434B5C;\n",
              "      --hover-fill-color: #FFFFFF;\n",
              "      --disabled-bg-color: #3B4455;\n",
              "      --disabled-fill-color: #666;\n",
              "  }\n",
              "\n",
              "  .colab-df-quickchart {\n",
              "    background-color: var(--bg-color);\n",
              "    border: none;\n",
              "    border-radius: 50%;\n",
              "    cursor: pointer;\n",
              "    display: none;\n",
              "    fill: var(--fill-color);\n",
              "    height: 32px;\n",
              "    padding: 0;\n",
              "    width: 32px;\n",
              "  }\n",
              "\n",
              "  .colab-df-quickchart:hover {\n",
              "    background-color: var(--hover-bg-color);\n",
              "    box-shadow: 0 1px 2px rgba(60, 64, 67, 0.3), 0 1px 3px 1px rgba(60, 64, 67, 0.15);\n",
              "    fill: var(--button-hover-fill-color);\n",
              "  }\n",
              "\n",
              "  .colab-df-quickchart-complete:disabled,\n",
              "  .colab-df-quickchart-complete:disabled:hover {\n",
              "    background-color: var(--disabled-bg-color);\n",
              "    fill: var(--disabled-fill-color);\n",
              "    box-shadow: none;\n",
              "  }\n",
              "\n",
              "  .colab-df-spinner {\n",
              "    border: 2px solid var(--fill-color);\n",
              "    border-color: transparent;\n",
              "    border-bottom-color: var(--fill-color);\n",
              "    animation:\n",
              "      spin 1s steps(1) infinite;\n",
              "  }\n",
              "\n",
              "  @keyframes spin {\n",
              "    0% {\n",
              "      border-color: transparent;\n",
              "      border-bottom-color: var(--fill-color);\n",
              "      border-left-color: var(--fill-color);\n",
              "    }\n",
              "    20% {\n",
              "      border-color: transparent;\n",
              "      border-left-color: var(--fill-color);\n",
              "      border-top-color: var(--fill-color);\n",
              "    }\n",
              "    30% {\n",
              "      border-color: transparent;\n",
              "      border-left-color: var(--fill-color);\n",
              "      border-top-color: var(--fill-color);\n",
              "      border-right-color: var(--fill-color);\n",
              "    }\n",
              "    40% {\n",
              "      border-color: transparent;\n",
              "      border-right-color: var(--fill-color);\n",
              "      border-top-color: var(--fill-color);\n",
              "    }\n",
              "    60% {\n",
              "      border-color: transparent;\n",
              "      border-right-color: var(--fill-color);\n",
              "    }\n",
              "    80% {\n",
              "      border-color: transparent;\n",
              "      border-right-color: var(--fill-color);\n",
              "      border-bottom-color: var(--fill-color);\n",
              "    }\n",
              "    90% {\n",
              "      border-color: transparent;\n",
              "      border-bottom-color: var(--fill-color);\n",
              "    }\n",
              "  }\n",
              "</style>\n",
              "\n",
              "      <script>\n",
              "        async function quickchart(key) {\n",
              "          const quickchartButtonEl =\n",
              "            document.querySelector('#' + key + ' button');\n",
              "          quickchartButtonEl.disabled = true;  // To prevent multiple clicks.\n",
              "          quickchartButtonEl.classList.add('colab-df-spinner');\n",
              "          try {\n",
              "            const charts = await google.colab.kernel.invokeFunction(\n",
              "                'suggestCharts', [key], {});\n",
              "          } catch (error) {\n",
              "            console.error('Error during call to suggestCharts:', error);\n",
              "          }\n",
              "          quickchartButtonEl.classList.remove('colab-df-spinner');\n",
              "          quickchartButtonEl.classList.add('colab-df-quickchart-complete');\n",
              "        }\n",
              "        (() => {\n",
              "          let quickchartButtonEl =\n",
              "            document.querySelector('#df-60bbd9db-f359-4d5a-a7a4-5a34782a8c1d button');\n",
              "          quickchartButtonEl.style.display =\n",
              "            google.colab.kernel.accessAllowed ? 'block' : 'none';\n",
              "        })();\n",
              "      </script>\n",
              "    </div>\n",
              "\n",
              "    </div>\n",
              "  </div>\n"
            ],
            "application/vnd.google.colaboratory.intrinsic+json": {
              "type": "dataframe",
              "repr_error": "0"
            }
          },
          "metadata": {}
        }
      ]
    },
    {
      "cell_type": "code",
      "execution_count": null,
      "id": "6f73eebb",
      "metadata": {
        "colab": {
          "base_uri": "https://localhost:8080/"
        },
        "id": "6f73eebb",
        "outputId": "3039211e-6565-4fd3-a284-b10cacb6a419"
      },
      "outputs": [
        {
          "output_type": "execute_result",
          "data": {
            "text/plain": [
              "(0.9868131868131869, 0.9385964912280702, 4)"
            ]
          },
          "metadata": {},
          "execution_count": 106
        }
      ],
      "source": [
        "# Cómo obtenemos de forma automática los hiperparámetros óptimos?\n",
        "best_tree = grid.best_estimator_\n",
        "acc_train_best = accuracy_score(y_train, best_tree.predict(X_train))\n",
        "acc_test_best  = accuracy_score(y_test,  best_tree.predict(X_test))\n",
        "acc_train_best, acc_test_best, best_tree.get_depth()\n"
      ]
    },
    {
      "cell_type": "markdown",
      "id": "7da89aea",
      "metadata": {
        "id": "7da89aea"
      },
      "source": [
        "\n",
        "## Comparación final\n",
        "\n",
        "Ahora comparamos directamente el desempeño de:\n",
        "\n",
        "- Árbol sin ajuste de hiperparámetros (por defecto).\n",
        "- Árbol ajustado con GridSearchCV.\n",
        "\n",
        "El objetivo es evidenciar cómo el modelo ajustado logra mantener una alta exactitud en prueba\n",
        "sin necesidad de memorizar el entrenamiento, logrando un **equilibrio train/test** mucho más saludable.\n"
      ]
    },
    {
      "cell_type": "code",
      "execution_count": null,
      "id": "139b836e",
      "metadata": {
        "colab": {
          "base_uri": "https://localhost:8080/",
          "height": 391
        },
        "id": "139b836e",
        "outputId": "049cc422-ff87-474c-a263-b3f1c42420c6"
      },
      "outputs": [
        {
          "output_type": "display_data",
          "data": {
            "text/plain": [
              "<Figure size 700x400 with 1 Axes>"
            ],
            "image/png": "[encoded data removed]"
          },
          "metadata": {}
        }
      ],
      "source": [
        "\n",
        "plt.bar([\"Train sin\", \"Test sin\"], [acc_train, acc_test], label=\"Sin ajuste de hiperparámetros\", alpha=0.7)\n",
        "plt.bar([\"Train con\", \"Test con\"], [acc_train_best, acc_test_best], label=\"Con ajuste de hiperparámetros\", alpha=0.7)\n",
        "plt.ylim(0.8, 1.05)\n",
        "plt.legend()\n",
        "plt.title(\"Comparación de desempeño\")\n",
        "plt.show()\n"
      ]
    },
    {
      "cell_type": "markdown",
      "id": "2e9d2855",
      "metadata": {
        "id": "2e9d2855"
      },
      "source": [
        "\n",
        "## Conclusiones\n",
        "\n",
        "- Un árbol de decisión (como cualquier modelo de ML) **sin restricciones** logra exactitud casi perfecta en entrenamiento,\n",
        "pero generaliza peor a datos nuevos → **sobreajuste**.\n",
        "- Limitar la profundidad del árbol y otros parámetros de complejidad permite mejorar la **generalización**.\n",
        "- La **curva de validación** muestra de forma clara la diferencia entre entrenar demasiado (sobreajuste)\n",
        "y entrenar poco (subajuste).\n",
        "- Usar **GridSearchCV** es una estrategia práctica y sistemática para encontrar hiperparámetros\n",
        "que logren un equilibrio óptimo.\n",
        "- Existen otros métodos como por ejemplo Optuna (framework  para optimizar hiperparámetros de manera eficiente y automática, a diferencia de GridSearchCV, que evalúa exhaustivamente una grilla prefijada)\n",
        "\n"
      ]
    },
    {
      "cell_type": "code",
      "metadata": {
        "id": "28c83d32"
      },
      "source": [],
      "id": "28c83d32",
      "execution_count": null,
      "outputs": []
    }
  ],
  "metadata": {
    "colab": {
      "provenance": []
    },
    "language_info": {
      "name": "python"
    },
    "kernelspec": {
      "name": "python3",
      "display_name": "Python 3"
    }
  },
  "nbformat": 4,
  "nbformat_minor": 5
}
