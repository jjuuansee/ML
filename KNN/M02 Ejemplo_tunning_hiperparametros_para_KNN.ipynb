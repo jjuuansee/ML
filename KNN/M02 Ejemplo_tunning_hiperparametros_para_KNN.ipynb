{
  "nbformat": 4,
  "nbformat_minor": 0,
  "metadata": {
    "colab": {
      "provenance": [],
      "authorship_tag": "ABX9TyNMzuHez3rxjXJ8QnBEJTp1",
      "include_colab_link": true
    },
    "kernelspec": {
      "name": "python3",
      "display_name": "Python 3"
    },
    "language_info": {
      "name": "python"
    }
  },
  "cells": [
    {
      "cell_type": "markdown",
      "metadata": {
        "id": "view-in-github",
        "colab_type": "text"
      },
      "source": [
        "<a href=\"https://colab.research.google.com/github/gustavovazquez/ML/blob/main/MCD_Ejemplo_tunning_hiperparametros_para_KNN.ipynb\" target=\"_parent\"><img src=\"https://colab.research.google.com/assets/colab-badge.svg\" alt=\"Open In Colab\"/></a>"
      ]
    },
    {
      "cell_type": "code",
      "execution_count": null,
      "metadata": {
        "colab": {
          "base_uri": "https://localhost:8080/"
        },
        "id": "oSPOfoYZuo0u",
        "outputId": "17c41e24-6962-4e99-c63a-d298a6d690e3"
      },
      "outputs": [
        {
          "output_type": "stream",
          "name": "stdout",
          "text": [
            "Mejores parámetros: {'knn__metric': 'euclidean', 'knn__n_neighbors': 7, 'knn__weights': 'uniform'}\n",
            "Mejor puntaje (CV): 0.86\n",
            "Exactitud en el conjunto de prueba: 0.88\n",
            "Exactitud: 0.850 con parámetros: {'knn__metric': 'euclidean', 'knn__n_neighbors': 3, 'knn__weights': 'uniform'}\n",
            "Exactitud: 0.838 con parámetros: {'knn__metric': 'euclidean', 'knn__n_neighbors': 3, 'knn__weights': 'distance'}\n",
            "Exactitud: 0.825 con parámetros: {'knn__metric': 'euclidean', 'knn__n_neighbors': 5, 'knn__weights': 'uniform'}\n",
            "Exactitud: 0.838 con parámetros: {'knn__metric': 'euclidean', 'knn__n_neighbors': 5, 'knn__weights': 'distance'}\n",
            "Exactitud: 0.856 con parámetros: {'knn__metric': 'euclidean', 'knn__n_neighbors': 7, 'knn__weights': 'uniform'}\n",
            "Exactitud: 0.856 con parámetros: {'knn__metric': 'euclidean', 'knn__n_neighbors': 7, 'knn__weights': 'distance'}\n",
            "Exactitud: 0.819 con parámetros: {'knn__metric': 'euclidean', 'knn__n_neighbors': 9, 'knn__weights': 'uniform'}\n",
            "Exactitud: 0.850 con parámetros: {'knn__metric': 'euclidean', 'knn__n_neighbors': 9, 'knn__weights': 'distance'}\n",
            "Exactitud: 0.844 con parámetros: {'knn__metric': 'manhattan', 'knn__n_neighbors': 3, 'knn__weights': 'uniform'}\n",
            "Exactitud: 0.850 con parámetros: {'knn__metric': 'manhattan', 'knn__n_neighbors': 3, 'knn__weights': 'distance'}\n",
            "Exactitud: 0.831 con parámetros: {'knn__metric': 'manhattan', 'knn__n_neighbors': 5, 'knn__weights': 'uniform'}\n",
            "Exactitud: 0.856 con parámetros: {'knn__metric': 'manhattan', 'knn__n_neighbors': 5, 'knn__weights': 'distance'}\n",
            "Exactitud: 0.844 con parámetros: {'knn__metric': 'manhattan', 'knn__n_neighbors': 7, 'knn__weights': 'uniform'}\n",
            "Exactitud: 0.844 con parámetros: {'knn__metric': 'manhattan', 'knn__n_neighbors': 7, 'knn__weights': 'distance'}\n",
            "Exactitud: 0.831 con parámetros: {'knn__metric': 'manhattan', 'knn__n_neighbors': 9, 'knn__weights': 'uniform'}\n",
            "Exactitud: 0.838 con parámetros: {'knn__metric': 'manhattan', 'knn__n_neighbors': 9, 'knn__weights': 'distance'}\n"
          ]
        }
      ],
      "source": [
        "import numpy as np\n",
        "from sklearn.datasets import make_classification\n",
        "from sklearn.model_selection import train_test_split, GridSearchCV\n",
        "from sklearn.preprocessing import StandardScaler\n",
        "from sklearn.pipeline import Pipeline\n",
        "from sklearn.neighbors import KNeighborsClassifier\n",
        "from sklearn.metrics import accuracy_score\n",
        "\n",
        "# Generar un conjunto de datos sintético\n",
        "np.random.seed(0)\n",
        "X, y = make_classification(n_samples=200, n_features=2, n_informative=2, n_redundant=0, random_state=42)\n",
        "X[:, 0] = X[:, 0] * 100  # Escalar la primera característica para que tenga artificialmente una magnitud mayor\n",
        "\n",
        "# Dividir el conjunto de datos en entrenamiento y prueba\n",
        "X_train, X_test, y_train, y_test = train_test_split(X, y, test_size=0.2, random_state=0)\n",
        "\n",
        "# Crear el pipeline con estandarización y KNN\n",
        "pipeline = Pipeline([\n",
        "    ('scaler', StandardScaler()),\n",
        "    ('knn', KNeighborsClassifier())\n",
        "])\n",
        "\n",
        "# Definir el espacio de parámetros para el tuning\n",
        "param_grid = {\n",
        "    'knn__n_neighbors': [3, 5, 7, 9],\n",
        "    'knn__weights': ['uniform', 'distance'],\n",
        "    'knn__metric': ['euclidean', 'manhattan']\n",
        "}\n",
        "\n",
        "# Configurar GridSearchCV con el pipeline y el espacio de parámetros\n",
        "grid_search = GridSearchCV(pipeline, param_grid, cv=5, n_jobs=-1)\n",
        "\n",
        "# Entrenar el modelo\n",
        "grid_search.fit(X_train, y_train)\n",
        "\n",
        "# Imprimir los mejores parámetros y el mejor puntaje\n",
        "print(f'Mejores parámetros: {grid_search.best_params_}')\n",
        "print(f'Mejor puntaje (CV): {grid_search.best_score_:.2f}')\n",
        "\n",
        "# Evaluar el modelo en el conjunto de prueba\n",
        "accuracy = grid_search.score(X_test, y_test)\n",
        "print(f'Exactitud en el conjunto de prueba: {accuracy:.2f}')\n",
        "\n",
        "# Mostrar todas las combinaciones de hiperparámetros y sus puntajes\n",
        "results = grid_search.cv_results_\n",
        "for mean_score, params in zip(results['mean_test_score'], results['params']):\n",
        "    print(f'Exactitud: {mean_score:.3f} con parámetros: {params}')\n"
      ]
    }
  ]
}
