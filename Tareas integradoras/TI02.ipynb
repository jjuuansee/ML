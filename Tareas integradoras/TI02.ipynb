{
  "cells": [
    {
      "cell_type": "markdown",
      "metadata": {
        "id": "view-in-github",
        "colab_type": "text"
      },
      "source": [
        "<a href=\"https://colab.research.google.com/github/gustavovazquez/ML/blob/main/ML_Ejercicio_proyecto_precios_viviendas.ipynb\" target=\"_parent\"><img src=\"https://colab.research.google.com/assets/colab-badge.svg\" alt=\"Open In Colab\"/></a>"
      ]
    },
    {
      "cell_type": "markdown",
      "id": "9fdbe9e3",
      "metadata": {
        "id": "9fdbe9e3"
      },
      "source": [
        "# Proyecto ML: Predicción de Precios de Viviendas\n",
        "\n",
        "En este notebook vamos a desarrollar paso a paso un proyecto de Machine Learning\n",
        "utilizando **regresión lineal**.  \n",
        "\n",
        "Usaremos **únicamente variables numéricas** al comienzo, y luego podremos ampliar a variables categóricas.\n",
        "\n",
        "El flujo será:\n",
        "\n",
        "1. Definición del problema  \n",
        "2. Carga y exploración de datos  \n",
        "3. Preprocesamiento  \n",
        "4. División en entrenamiento y prueba  \n",
        "5. Entrenamiento del modelo  \n",
        "6. Evaluación  \n",
        "7. Interpretación de coeficientes  \n",
        "8. Análisis de errores  \n"
      ]
    },
    {
      "cell_type": "markdown",
      "id": "87696fa1",
      "metadata": {
        "id": "87696fa1"
      },
      "source": [
        "## 1. Definición del problema\n",
        "\n",
        "Queremos predecir el **precio de una vivienda** (`Precio`) en función de sus\n",
        "características numéricas (superficie, baños, habitaciones, etc.).\n",
        "\n",
        "El objetivo es construir un **modelo de regresión lineal** que nos permita\n",
        "entender cuáles son los factores más influyentes en el valor de una propiedad.\n"
      ]
    },
    {
      "cell_type": "markdown",
      "id": "0bf14ef3",
      "metadata": {
        "id": "0bf14ef3"
      },
      "source": [
        "## 2. Carga y exploración de datos\n",
        "\n",
        "En esta etapa cargamos el dataset y exploramos su estructura:\n",
        "- Número de filas y columnas.\n",
        "- Tipos de datos (numéricos y categóricos).\n",
        "- Primeras filas para darnos una idea del contenido.\n"
      ]
    },
    {
      "cell_type": "code",
      "execution_count": null,
      "id": "cb836120",
      "metadata": {
        "id": "cb836120"
      },
      "outputs": [],
      "source": [
        "# Importar librerías necesarias: pandas, numpy, matplotlib, seaborn\n",
        "# Cargar el dataset desde la URL o desde un archivo local\n",
        "# Mostrar las primeras filas con df.head()\n",
        "# Revisar información general con df.info() y df.describe()\n",
        "# Realiza un análisis descriptivo más general usando pandas profiling"
      ]
    },
    {
      "cell_type": "markdown",
      "id": "fa76a3ef",
      "metadata": {
        "id": "fa76a3ef"
      },
      "source": [
        "## 3. Selección de variables\n",
        "\n",
        "Elegimos únicamente las **variables numéricas** como predictores (X),\n",
        "y la variable `Precio` como objetivo (y).\n"
      ]
    },
    {
      "cell_type": "code",
      "execution_count": null,
      "id": "4e6505d9",
      "metadata": {
        "id": "4e6505d9"
      },
      "outputs": [],
      "source": [
        "# Seleccionar columnas numéricas con df.select_dtypes()\n",
        "# Separar en X (predictoras) y y (objetivo)\n",
        "# Una forma sencilla de seleccionar las variables numéricas es df.select_dtypes(include=[\"number\"])\n",
        "# ^^^ acordarse de descartar la columna objetivo!\n",
        "# Realiza una matriz de correlación para detectar posibles correlaciones"
      ]
    },
    {
      "cell_type": "markdown",
      "id": "43729398",
      "metadata": {
        "id": "43729398"
      },
      "source": [
        "## 4. División en entrenamiento y prueba\n",
        "\n",
        "Separamos el dataset en dos partes:\n",
        "- **Entrenamiento (80%)** para ajustar el modelo.\n",
        "- **Prueba (20%)** para evaluar el desempeño en datos no vistos.\n"
      ]
    },
    {
      "cell_type": "code",
      "execution_count": null,
      "id": "5097304d",
      "metadata": {
        "id": "5097304d"
      },
      "outputs": [],
      "source": [
        "# Usar train_test_split de sklearn.model_selection\n",
        "# Guardar en X_train, X_test, y_train, y_test"
      ]
    },
    {
      "cell_type": "markdown",
      "id": "667f01ec",
      "metadata": {
        "id": "667f01ec"
      },
      "source": [
        "## 5. Preprocesamiento: Escalado\n",
        "\n",
        "- **Estandarización**: escalar todas las variables numéricas a media=0 y var=1,\n",
        "  para que los coeficientes sean comparables.\n"
      ]
    },
    {
      "cell_type": "code",
      "execution_count": null,
      "id": "3b7f3318",
      "metadata": {
        "id": "3b7f3318"
      },
      "outputs": [],
      "source": [
        "# Usar Pipeline de sklearn\n",
        "# Incluir pasos: StandardScaler(), LinearRegression()"
      ]
    },
    {
      "cell_type": "markdown",
      "id": "e8070e3f",
      "metadata": {
        "id": "e8070e3f"
      },
      "source": [
        "## 6. Entrenamiento del modelo\n",
        "\n",
        "Entrenamos un modelo de **regresión lineal** utilizando las variables\n",
        "numéricas escaladas.\n"
      ]
    },
    {
      "cell_type": "code",
      "execution_count": null,
      "id": "a39bdfff",
      "metadata": {
        "id": "a39bdfff"
      },
      "outputs": [],
      "source": [
        "# Ajustar el pipeline con .fit(X_train, y_train)"
      ]
    },
    {
      "cell_type": "markdown",
      "id": "ebd8f906",
      "metadata": {
        "id": "ebd8f906"
      },
      "source": [
        "## 7. Evaluación del modelo\n",
        "\n",
        "Medimos qué tan bien predice en los datos de prueba:\n",
        "- MSE (Error cuadrático medio)  \n",
        "- RMSE (Raíz del MSE)  \n",
        "- MAE (Error absoluto medio)  \n",
        "- R² (Coeficiente de determinación)  \n"
      ]
    },
    {
      "cell_type": "code",
      "execution_count": null,
      "id": "633fbe72",
      "metadata": {
        "id": "633fbe72"
      },
      "outputs": [],
      "source": [
        "# Usar .predict(X_test) para obtener predicciones\n",
        "# Calcular métricas con mean_squared_error, mean_absolute_error, r2_score\n",
        "# Imprimir resultados"
      ]
    },
    {
      "cell_type": "markdown",
      "id": "2c5121ba",
      "metadata": {
        "id": "2c5121ba"
      },
      "source": [
        "## 8. Interpretación de coeficientes\n",
        "\n",
        "Al haber usado estandarización, los coeficientes son comparables:\n",
        "- Signo (+/-): indica si la variable aumenta o disminuye el precio.\n",
        "- Magnitud: indica la influencia relativa.\n"
      ]
    },
    {
      "cell_type": "code",
      "execution_count": null,
      "id": "6cbb40bb",
      "metadata": {
        "id": "6cbb40bb"
      },
      "outputs": [],
      "source": [
        "# Extraer coeficientes del modelo con .coef_\n",
        "# Crear un DataFrame con feature y coeficiente\n",
        "# Ordenar por valor absoluto para ver las variables más influyentes\n",
        "# (opcional) Hacer un gráfico de barras horizontales"
      ]
    },
    {
      "cell_type": "markdown",
      "id": "ea2dfd64",
      "metadata": {
        "id": "ea2dfd64"
      },
      "source": [
        "## 9. Análisis de errores\n",
        "\n",
        "Revisamos si el modelo cumple los supuestos de la regresión lineal:\n",
        "- Residuos deben distribuirse de forma aproximadamente normal.\n",
        "- No debe haber patrones claros en el gráfico residuos vs predicción.\n"
      ]
    },
    {
      "cell_type": "code",
      "execution_count": null,
      "id": "ebca4632",
      "metadata": {
        "id": "ebca4632"
      },
      "outputs": [],
      "source": [
        "# Calcular residuos = y_test - y_pred\n",
        "# Hacer un scatterplot de y_pred vs residuos\n",
        "# Dibujar histograma de residuos"
      ]
    }
  ],
  "metadata": {
    "colab": {
      "provenance": [],
      "include_colab_link": true
    }
  },
  "nbformat": 4,
  "nbformat_minor": 5
}
